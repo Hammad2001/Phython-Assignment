{
 "cells": [
  {
   "cell_type": "code",
   "execution_count": 4,
   "metadata": {},
   "outputs": [
    {
     "name": "stdout",
     "output_type": "stream",
     "text": [
      "      Mark Sheet\n",
      "NOTE: All marks are out of 100\n",
      "Enter Marks of English: 70\n",
      "Enter Marks of Physics: 91\n",
      "Enter Marks of Chemistry: 80\n",
      "Enter Marks of Maths: 81\n",
      "Enter Marks of Urdu: 73\n",
      "Percentage of a student is: \n",
      "79.0\n",
      "A\n"
     ]
    }
   ],
   "source": [
    "#Enrolment No. :SMIT/19/PY/B2/07595\n",
    "#Roll No. :PY07595\n",
    "#Name :Muhammad Hammad Mansoor\n",
    "#Q1\n",
    "print(\"      Mark Sheet\")\n",
    "print(\"NOTE: All marks are out of 100\")\n",
    "a=int(input(\"Enter Marks of English: \"))\n",
    "b=int(input(\"Enter Marks of Physics: \"))\n",
    "c=int(input(\"Enter Marks of Chemistry: \"))\n",
    "d=int(input(\"Enter Marks of Maths: \"))\n",
    "e=int(input(\"Enter Marks of Urdu: \"))\n",
    "f=((a+b+c+d+e)*100)/(5*100)\n",
    "print(\"Percentage of a student is: \")\n",
    "print(f)\n",
    "if f>=80 :\n",
    "    print(\"A+\")\n",
    "elif f>=70 and f<80 :\n",
    "    print(\"A\")\n",
    "elif f>=60 and f<70 :\n",
    "    print(\"B\")\n",
    "else :\n",
    "    print(\"Fail\")\n",
    "    "
   ]
  },
  {
   "cell_type": "code",
   "execution_count": 1,
   "metadata": {},
   "outputs": [
    {
     "name": "stdout",
     "output_type": "stream",
     "text": [
      "Enter any number: 4\n",
      "Number is Even\n"
     ]
    }
   ],
   "source": [
    "#Enrolment No. :SMIT/19/PY/B2/07595\n",
    "#Roll No. :PY07595\n",
    "#Name :Muhammad Hammad Mansoor\n",
    "#Q2\n",
    "x=int(input(\"Enter any number: \"))\n",
    "if(x%2==0):\n",
    "    print(\"Number is Even\")\n",
    "else: \n",
    "    print(\"Number is Odd\")"
   ]
  },
  {
   "cell_type": "code",
   "execution_count": 2,
   "metadata": {},
   "outputs": [
    {
     "name": "stdout",
     "output_type": "stream",
     "text": [
      "The length of Array is:  4\n"
     ]
    }
   ],
   "source": [
    "#Enrolment No. :SMIT/19/PY/B2/07595\n",
    "#Roll No. :PY07595\n",
    "#Name :Muhammad Hammad Mansoor\n",
    "#Q3\n",
    "y=[2,\"Hammad\",0.5,11]\n",
    "print(\"The length of Array is: \",len(y))"
   ]
  },
  {
   "cell_type": "code",
   "execution_count": 15,
   "metadata": {},
   "outputs": [
    {
     "name": "stdout",
     "output_type": "stream",
     "text": [
      "Sum of all numbers in Array:  25\n"
     ]
    }
   ],
   "source": [
    "#Enrolment No. :SMIT/19/PY/B2/07595\n",
    "#Roll No. :PY07595\n",
    "#Name :Muhammad Hammad Mansoor\n",
    "#Q4\n",
    "z = [1,2,3,4,5,1,4,5] \n",
    "Sum = sum(z) \n",
    "print(\"Sum of all numbers in Array: \",Sum) "
   ]
  },
  {
   "cell_type": "code",
   "execution_count": 17,
   "metadata": {},
   "outputs": [
    {
     "name": "stdout",
     "output_type": "stream",
     "text": [
      "Maximum number in Array:  5\n"
     ]
    }
   ],
   "source": [
    "#Enrolment No. :SMIT/19/PY/B2/07595\n",
    "#Roll No. :PY07595\n",
    "#Name :Muhammad Hammad Mansoor\n",
    "#Q5\n",
    "h = [1,2,3,4,5,1,5,4] \n",
    "Max = max(z) \n",
    "print(\"Maximum number in Array: \",Max) "
   ]
  },
  {
   "cell_type": "code",
   "execution_count": 3,
   "metadata": {},
   "outputs": [
    {
     "name": "stdout",
     "output_type": "stream",
     "text": [
      "All the values less then 5: \n",
      "1\n",
      "1\n",
      "2\n",
      "3\n"
     ]
    }
   ],
   "source": [
    "#Enrolment No. :SMIT/19/PY/B2/07595\n",
    "#Roll No. :PY07595\n",
    "#Name :Muhammad Hammad Mansoor\n",
    "#Q6\n",
    "a = [1, 1, 2, 3, 5, 8, 13, 21, 34, 55, 89]\n",
    "print(\"All the values less then 5: \")\n",
    "for i in a:\n",
    "    if i < 5:\n",
    "        print(i)"
   ]
  }
 ],
 "metadata": {
  "kernelspec": {
   "display_name": "Python 3",
   "language": "python",
   "name": "python3"
  },
  "language_info": {
   "codemirror_mode": {
    "name": "ipython",
    "version": 3
   },
   "file_extension": ".py",
   "mimetype": "text/x-python",
   "name": "python",
   "nbconvert_exporter": "python",
   "pygments_lexer": "ipython3",
   "version": "3.7.4"
  }
 },
 "nbformat": 4,
 "nbformat_minor": 2
}
