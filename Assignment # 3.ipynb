{
 "cells": [
  {
   "cell_type": "code",
   "execution_count": 55,
   "metadata": {},
   "outputs": [
    {
     "name": "stdout",
     "output_type": "stream",
     "text": [
      "Enter first value: 4\n",
      "Enter opertor: ^\n",
      "Enter first value: 2\n",
      "16.0 answer\n"
     ]
    }
   ],
   "source": [
    "#Enrolment No. :SMIT/19/PY/B2/07595\n",
    "#Roll No. :PY07595\n",
    "#Name :Muhammad Hammad Mansoor\n",
    "#Q1\n",
    "num1 = float(input('Enter first value: '))\n",
    "operator = input('Enter opertor: ')\n",
    "num2 =float(input('Enter first value: '))\n",
    "\n",
    "if operator == '+':\n",
    "    val=num1+num2\n",
    "    print(val,'answer')\n",
    "elif operator == '-':\n",
    "    val=num1-num2\n",
    "    print(val,'answer')\n",
    "elif operator == '*':\n",
    "    val=num1*num2\n",
    "    print(val,'answer')\n",
    "elif operator == '/':\n",
    "    val=num1/num2\n",
    "    print(val,'answer')\n",
    "elif operator =='^':\n",
    "    val=num1**num2\n",
    "    print(val,'answer')\n",
    "else :\n",
    "    print(\"Please enter correct operator!!....\")"
   ]
  },
  {
   "cell_type": "code",
   "execution_count": 57,
   "metadata": {},
   "outputs": [
    {
     "name": "stdout",
     "output_type": "stream",
     "text": [
      "Enter any number to cheak in list: 21\n",
      "Number Exist\n"
     ]
    }
   ],
   "source": [
    "#Enrolment No. :SMIT/19/PY/B2/07595\n",
    "#Roll No. :PY07595\n",
    "#Name :Muhammad Hammad Mansoor\n",
    "#Q2\n",
    "list=[21,35,98,12,45,74]\n",
    "num=int(input(\"Enter any number to cheak in list: \"))\n",
    "for i in list:\n",
    "    if(i==num):\n",
    "        print(\"Number Exist\")\n",
    "    else:\n",
    "        print(\"Number dose not Exist\")"
   ]
  },
  {
   "cell_type": "code",
   "execution_count": 58,
   "metadata": {},
   "outputs": [
    {
     "name": "stdout",
     "output_type": "stream",
     "text": [
      "Information about your employee is..... \n",
      "{'First Name': 'Hammad', 'Last Name': 'Mansoor', 'Address': '123 Abc St.', 'Phone Number: ': '0339-87654321'}\n"
     ]
    }
   ],
   "source": [
    "#Enrolment No. :SMIT/19/PY/B2/07595\n",
    "#Roll No. :PY07595\n",
    "#Name :Muhammad Hammad Mansoor\n",
    "#Q3\n",
    "employee = {\n",
    "    \"First Name\": \"Hammad\",\n",
    "    \"Last Name\": \"Mansoor\",\n",
    "    \"Address\": \"123 Abc St.\"\n",
    "}\n",
    "employee[\"Phone Number: \"]=\"0339-87654321\"\n",
    "print(\"Information about your employee is..... \")\n",
    "print(employee)"
   ]
  },
  {
   "cell_type": "code",
   "execution_count": 59,
   "metadata": {},
   "outputs": [
    {
     "name": "stdout",
     "output_type": "stream",
     "text": [
      "180\n"
     ]
    }
   ],
   "source": [
    "#Enrolment No. :SMIT/19/PY/B2/07595\n",
    "#Roll No. :PY07595\n",
    "#Name :Muhammad Hammad Mansoor\n",
    "#Q4\n",
    "dictionary={'x': 45 ,'y': 90,'z':45}\n",
    "print(sum(dictionary.values()))"
   ]
  },
  {
   "cell_type": "code",
   "execution_count": 60,
   "metadata": {},
   "outputs": [
    {
     "name": "stdout",
     "output_type": "stream",
     "text": [
      "Duplicate Values are:  [20, 30, 60, 90]\n"
     ]
    }
   ],
   "source": [
    "#Enrolment No. :SMIT/19/PY/B2/07595\n",
    "#Roll No. :PY07595\n",
    "#Name :Muhammad Hammad Mansoor\n",
    "#Q5\n",
    "list_1=[10, 20, 30, 20, 20, 30, 40, 50, 90, 60, 60, 90, 90]\n",
    "dublicate_item=[]\n",
    "unique_item={}\n",
    "for i in list_1:\n",
    "    if i not in unique_item:\n",
    "        unique_item[i] = 1\n",
    "    else:\n",
    "        if unique_item[i]==1:\n",
    "            dublicate_item.append(i)\n",
    "        unique_item[i]+= 1\n",
    "print(\"Duplicate Values are: \",dublicate_item)"
   ]
  },
  {
   "cell_type": "code",
   "execution_count": 61,
   "metadata": {},
   "outputs": [
    {
     "name": "stdout",
     "output_type": "stream",
     "text": [
      "Enter the key to check: Address_1\n",
      "Key is in Dictionary\n"
     ]
    }
   ],
   "source": [
    "#Enrolment No. :SMIT/19/PY/B2/07595\n",
    "#Roll No. :PY07595\n",
    "#Name :Muhammad Hammad Mansoor\n",
    "#Q6\n",
    "A={\n",
    "    \"1\":\"ALI\",\n",
    "    \"2\":\"ALEEM\",\n",
    "    \"3\":\"ASAD\",\n",
    "    \"4\":\"AMMAD\",\n",
    "    \"Address_1\":\"123 ABC st.\"\n",
    "}\n",
    "B=input(\"Enter the key to check: \")\n",
    "if B in A:\n",
    "    print(\"Key is in Dictionary\")\n",
    "else:\n",
    "    print(\"Key is not in Dictionary\")"
   ]
  }
 ],
 "metadata": {
  "kernelspec": {
   "display_name": "Python 3",
   "language": "python",
   "name": "python3"
  },
  "language_info": {
   "codemirror_mode": {
    "name": "ipython",
    "version": 3
   },
   "file_extension": ".py",
   "mimetype": "text/x-python",
   "name": "python",
   "nbconvert_exporter": "python",
   "pygments_lexer": "ipython3",
   "version": "3.7.4"
  }
 },
 "nbformat": 4,
 "nbformat_minor": 2
}
