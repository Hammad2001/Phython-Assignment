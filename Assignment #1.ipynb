{
 "cells": [
  {
   "cell_type": "code",
   "execution_count": 7,
   "metadata": {},
   "outputs": [
    {
     "name": "stdout",
     "output_type": "stream",
     "text": [
      "Twikle, twinkle,little star\n",
      "      How i wonder what are you doing\n",
      "          up above the world so high\n",
      "          like a diamond in the sky\n",
      "Twikle, twinkle,little star\n",
      "      How i wonder what are you doing\n"
     ]
    }
   ],
   "source": [
    "#Enrolment No. :SMIT/19/PY/B2/07595\n",
    "#Roll No. :PY07595\n",
    "#Name :Muhammad Hammad Mansoor\n",
    "#Q1\n",
    "print(\"Twikle, twinkle,little star\")\n",
    "print(\"      How i wonder what are you doing\")\n",
    "print(\"          up above the world so high\")\n",
    "print(\"          like a diamond in the sky\")\n",
    "print(\"Twikle, twinkle,little star\")\n",
    "print(\"      How i wonder what are you doing\")"
   ]
  },
  {
   "cell_type": "code",
   "execution_count": 8,
   "metadata": {},
   "outputs": [
    {
     "name": "stdout",
     "output_type": "stream",
     "text": [
      "3.7.4\n"
     ]
    }
   ],
   "source": [
    "#Enrolment No. :SMIT/19/PY/B2/07595\n",
    "#Roll No. :PY07595\n",
    "#Name :Muhammad Hammad Mansoor\n",
    "#Q2\n",
    "from platform import python_version\n",
    "print(python_version())"
   ]
  },
  {
   "cell_type": "code",
   "execution_count": 9,
   "metadata": {},
   "outputs": [
    {
     "name": "stdout",
     "output_type": "stream",
     "text": [
      "Current date and time : \n",
      "2019-11-04 19:57:34\n"
     ]
    }
   ],
   "source": [
    "#Enrolment No. :SMIT/19/PY/B2/07595\n",
    "#Roll No. :PY07595\n",
    "#Name :Muhammad Hammad Mansoor\n",
    "#Q3\n",
    "import datetime\n",
    "now = datetime.datetime.now()\n",
    "print (\"Current date and time : \")\n",
    "print (now.strftime(\"%Y-%m-%d %H:%M:%S\"))"
   ]
  },
  {
   "cell_type": "code",
   "execution_count": 10,
   "metadata": {},
   "outputs": [
    {
     "name": "stdout",
     "output_type": "stream",
     "text": [
      "enter the radius: 22\n",
      "The area is :\n",
      "138.28571428571428\n"
     ]
    }
   ],
   "source": [
    "#Enrolment No. :SMIT/19/PY/B2/07595\n",
    "#Roll No. :PY07595\n",
    "#Name :Muhammad Hammad Mansoor\n",
    "#Q4\n",
    "a=float(input(\"enter the radius: \"))\n",
    "b=(22/7)*a*2\n",
    "print(\"The area is :\")\n",
    "print(b)"
   ]
  },
  {
   "cell_type": "code",
   "execution_count": 11,
   "metadata": {},
   "outputs": [
    {
     "name": "stdout",
     "output_type": "stream",
     "text": [
      "enter the first name: Hammad\n",
      "enter the last name: Mansoor\n",
      "Mansoor Hammad\n"
     ]
    }
   ],
   "source": [
    "#Enrolment No. :SMIT/19/PY/B2/07595\n",
    "#Roll No. :PY07595\n",
    "#Name :Muhammad Hammad Mansoor\n",
    "#Q5\n",
    "first_name=input(\"enter the first name: \")\n",
    "last_name=input(\"enter the last name: \")\n",
    "print(last_name+\" \"+first_name)"
   ]
  },
  {
   "cell_type": "code",
   "execution_count": 12,
   "metadata": {},
   "outputs": [
    {
     "name": "stdout",
     "output_type": "stream",
     "text": [
      "enter first number: 2\n",
      "enter second number: 4\n",
      "the sum is 6\n"
     ]
    }
   ],
   "source": [
    "#Enrolment No. :SMIT/19/PY/B2/07595\n",
    "#Roll No. :PY07595\n",
    "#Name :Muhammad Hammad Mansoor\n",
    "#Q6\n",
    "a=int(input(\"enter first number: \"))\n",
    "b=int(input(\"enter second number: \"))\n",
    "sum=a+b\n",
    "sum1=str(sum)\n",
    "print(\"the sum is \"+ sum1)"
   ]
  }
 ],
 "metadata": {
  "kernelspec": {
   "display_name": "Python 3",
   "language": "python",
   "name": "python3"
  },
  "language_info": {
   "codemirror_mode": {
    "name": "ipython",
    "version": 3
   },
   "file_extension": ".py",
   "mimetype": "text/x-python",
   "name": "python",
   "nbconvert_exporter": "python",
   "pygments_lexer": "ipython3",
   "version": "3.7.4"
  }
 },
 "nbformat": 4,
 "nbformat_minor": 2
}
