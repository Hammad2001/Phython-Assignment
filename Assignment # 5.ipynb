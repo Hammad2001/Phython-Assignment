{
 "cells": [
  {
   "cell_type": "code",
   "execution_count": 8,
   "metadata": {
    "scrolled": true
   },
   "outputs": [
    {
     "name": "stdout",
     "output_type": "stream",
     "text": [
      "Enter any number: 4\n",
      "Factorial of a number is:  24\n"
     ]
    }
   ],
   "source": [
    "#Enrolment No. :SMIT/19/PY/B2/07595\n",
    "#Roll No. :PY07595\n",
    "#Name :Muhammad Hammad Mansoor\n",
    "#Q1\n",
    "n=int(input(\"Enter any number: \")) \n",
    "factorial=1\n",
    "def fact(factorial):\n",
    "    if(n==0):\n",
    "        factorial = 1\n",
    "    elif(n>1):\n",
    "        for i in range(1,n+1):\n",
    "            factorial*=i\n",
    "    else:\n",
    "        print(\"You must enter number greater than 1...\")\n",
    "    return factorial\n",
    "\n",
    "return_val=fact(factorial)\n",
    "print('Factorial of a number is: ',return_val)"
   ]
  },
  {
   "cell_type": "code",
   "execution_count": 2,
   "metadata": {},
   "outputs": [
    {
     "name": "stdout",
     "output_type": "stream",
     "text": [
      "Upper case: 10\n",
      "Lower case: 8\n"
     ]
    }
   ],
   "source": [
    "#Enrolment No. :SMIT/19/PY/B2/07595\n",
    "#Roll No. :PY07595\n",
    "#Name :Muhammad Hammad Mansoor\n",
    "#Q2\n",
    "def UpperAndLowerCase(count):\n",
    "   upper = 0\n",
    "   lower = 0\n",
    "   for i in count:\n",
    "      if i >='A' and i <= 'Z':\n",
    "         upper += 1\n",
    "      elif i >= 'a' and i <= 'z':\n",
    "         lower += 1\n",
    "   print(\"Upper case: \" + str(upper))\n",
    "   print(\"Lower case: \" + str(lower))\n",
    "\n",
    "UpperAndLowerCase(\"I love To Play CRICKET\")"
   ]
  },
  {
   "cell_type": "code",
   "execution_count": 3,
   "metadata": {},
   "outputs": [
    {
     "name": "stdout",
     "output_type": "stream",
     "text": [
      "[2, 4, 6, 10, 8]\n"
     ]
    }
   ],
   "source": [
    "#Enrolment No. :SMIT/19/PY/B2/07595\n",
    "#Roll No. :PY07595\n",
    "#Name :Muhammad Hammad Mansoor\n",
    "#Q3\n",
    "def even_num(list):\n",
    "    evennum = []\n",
    "    for n in list:\n",
    "        if n % 2 == 0:\n",
    "            evennum.append(n)\n",
    "    return evennum\n",
    "print(even_num([45, 7, 2, 4, 6, 10, 11, 8, 55]))"
   ]
  },
  {
   "cell_type": "code",
   "execution_count": 4,
   "metadata": {},
   "outputs": [
    {
     "name": "stdout",
     "output_type": "stream",
     "text": [
      "Yes\n"
     ]
    }
   ],
   "source": [
    "#Enrolment No. :SMIT/19/PY/B2/07595\n",
    "#Roll No. :PY07595\n",
    "#Name :Muhammad Hammad Mansoor\n",
    "#Q4\n",
    "def reverse(pa): \n",
    "    return pa[::-1] \n",
    "  \n",
    "def isPalindrome(pa):  \n",
    "    rev = reverse(pa) \n",
    "  \n",
    "    if (pa == rev): \n",
    "        return True\n",
    "    return False\n",
    "  \n",
    "# enter string \n",
    "pa = \"MADAM\"\n",
    "ans = isPalindrome(pa) \n",
    "  \n",
    "if ans == 1: \n",
    "    print(\"Yes\") \n",
    "else: \n",
    "    print(\"No\")"
   ]
  },
  {
   "cell_type": "code",
   "execution_count": 5,
   "metadata": {},
   "outputs": [
    {
     "name": "stdout",
     "output_type": "stream",
     "text": [
      "True\n"
     ]
    }
   ],
   "source": [
    "#Enrolment No. :SMIT/19/PY/B2/07595\n",
    "#Roll No. :PY07595\n",
    "#Name :Muhammad Hammad Mansoor\n",
    "#Q5\n",
    "def checkprimenumber(n):\n",
    "    if (n==1):\n",
    "        return False\n",
    "    elif (n==2):\n",
    "        return True;\n",
    "    else:\n",
    "        for x in range(2,n):\n",
    "            if(n % x==0):\n",
    "                return False\n",
    "        return True             \n",
    "print(checkprimenumber(2))"
   ]
  },
  {
   "cell_type": "code",
   "execution_count": 9,
   "metadata": {},
   "outputs": [
    {
     "name": "stdout",
     "output_type": "stream",
     "text": [
      "Product name:  shampoo\n",
      "Product name:  banana\n",
      "Product name:  coffee\n",
      "Product name:  dryer\n",
      "Product name:  milk\n",
      "Product name:  sugar\n"
     ]
    }
   ],
   "source": [
    "#Enrolment No. :SMIT/19/PY/B2/07595\n",
    "#Roll No. :PY07595\n",
    "#Name :Muhammad Hammad Mansoor\n",
    "#Q6\n",
    "def sho_list(*items):\n",
    "   for name in items:\n",
    "       print(\"Product name: \",name)\n",
    "\n",
    "sho_list(\"shampoo\",\"banana\",\"coffee\",\"dryer\",\"milk\",\"sugar\")"
   ]
  }
 ],
 "metadata": {
  "kernelspec": {
   "display_name": "Python 3",
   "language": "python",
   "name": "python3"
  },
  "language_info": {
   "codemirror_mode": {
    "name": "ipython",
    "version": 3
   },
   "file_extension": ".py",
   "mimetype": "text/x-python",
   "name": "python",
   "nbconvert_exporter": "python",
   "pygments_lexer": "ipython3",
   "version": "3.7.4"
  }
 },
 "nbformat": 4,
 "nbformat_minor": 2
}
