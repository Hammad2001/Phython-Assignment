{
 "cells": [
  {
   "cell_type": "code",
   "execution_count": 6,
   "metadata": {},
   "outputs": [
    {
     "name": "stdout",
     "output_type": "stream",
     "text": [
      "Person=  {'first_name': 'usaid', 'last_name': 'ali', 'age': 19, 'city': 'karachi'}\n",
      "Update_Person=  {'first_name': 'usaid', 'last_name': 'ali', 'age': 19, 'city': 'karachi', 'qualification': 'BE'}\n",
      "Delete_Person=  {'first_name': 'usaid', 'last_name': 'ali', 'age': 19, 'city': 'karachi'}\n"
     ]
    }
   ],
   "source": [
    "#Enrolment No. :SMIT/19/PY/B2/07595\n",
    "#Roll No. :PY07595\n",
    "#Name :Muhammad Hammad Mansoor\n",
    "#Q1\n",
    "person = {'first_name':  \"usaid\" ,\n",
    "          'last_name': 'ali',\n",
    "          'age': 19,\n",
    "          'city': 'karachi',\n",
    "         }\n",
    "print(\"Person= \",person)\n",
    "person.update({\"qualification\":\"BE\"})\n",
    "print(\"Update_Person= \",person)\n",
    "del person['qualification']\n",
    "print(\"Delete_Person= \",person)\n"
   ]
  },
  {
   "cell_type": "code",
   "execution_count": 2,
   "metadata": {},
   "outputs": [
    {
     "name": "stdout",
     "output_type": "stream",
     "text": [
      "*karachi\n",
      "paksitan\n",
      "two crore\n",
      "city of lights\n",
      "*sukkur\n",
      "paksitan\n",
      "seven lac\n",
      "mini paksitan\n",
      "*isl\n",
      "paksitan\n",
      "one crore\n",
      "capital of pakistan\n"
     ]
    }
   ],
   "source": [
    "#Enrolment No. :SMIT/19/PY/B2/07595\n",
    "#Roll No. :PY07595\n",
    "#Name :Muhammad Hammad Mansoor\n",
    "#Q2\n",
    "cities = []\n",
    "inf= {\n",
    "    'city': '*karachi',\n",
    "    'country': 'paksitan',\n",
    "    'popu': 'two crore',\n",
    "    'fact': 'city of lights',\n",
    "    }\n",
    "cities.append(inf)\n",
    "\n",
    "inf = {\n",
    "    'city': '*sukkur',\n",
    "    'country': 'paksitan',\n",
    "    'popu': 'seven lac',\n",
    "    'fact': 'mini paksitan',\n",
    "    }\n",
    "cities.append(inf)\n",
    "\n",
    "inf = {\n",
    "    'city': '*isl',\n",
    "    'country': 'paksitan',\n",
    "    'popu': 'one crore',\n",
    "    'fact': 'capital of pakistan',\n",
    "    }\n",
    "cities.append(inf)\n",
    "\n",
    "for inf in cities:\n",
    "    city= inf['city']\n",
    "    country=inf['country']\n",
    "    popu = inf['popu']\n",
    "    fact=inf['fact']\n",
    "    \n",
    "    print(city)\n",
    "    print(country)\n",
    "    print(popu)\n",
    "    print(fact)"
   ]
  },
  {
   "cell_type": "code",
   "execution_count": null,
   "metadata": {},
   "outputs": [
    {
     "name": "stdout",
     "output_type": "stream",
     "text": [
      "how old are you: 2\n",
      "  You get in free!\n",
      "how old are you: 19\n",
      "  Your ticket is $15.\n",
      "how old are you: 11\n",
      "  Your ticket is $10.\n"
     ]
    }
   ],
   "source": [
    "#Enrolment No. :SMIT/19/PY/B2/07595\n",
    "#Roll No. :PY07595\n",
    "#Name :Muhammad Hammad Mansoor\n",
    "#Q3\n",
    "while True:\n",
    "    age = input(\"how old are you: \")\n",
    "    age = int(age)\n",
    "\n",
    "    if age>=1 and age<=3:\n",
    "        print(\"  You get in free!\")\n",
    "    elif age>3 and age<=12:\n",
    "        print(\"  Your ticket is $10.\")\n",
    "    else:\n",
    "        print(\"  Your ticket is $15.\")"
   ]
  },
  {
   "cell_type": "code",
   "execution_count": 3,
   "metadata": {},
   "outputs": [
    {
     "name": "stdout",
     "output_type": "stream",
     "text": [
      "Enter one of your favorite: Smarter Way to learn python\n",
      "One of my favorite book is:  Smarter Way to learn python\n"
     ]
    }
   ],
   "source": [
    "#Enrolment No. :SMIT/19/PY/B2/07595\n",
    "#Roll No. :PY07595\n",
    "#Name :Muhammad Hammad Mansoor\n",
    "#Q4\n",
    "def Favorite_Book(book):\n",
    "    print(\"One of my favorite book is: \",book)\n",
    "book=input(\"Enter one of your favorite: \")\n",
    "Favorite_Book(book)"
   ]
  },
  {
   "cell_type": "code",
   "execution_count": 1,
   "metadata": {},
   "outputs": [
    {
     "name": "stdout",
     "output_type": "stream",
     "text": [
      "Hello! What is your name?\n",
      "Hammad\n",
      "Well, Hammad, Lets think a number between 1 and 30.\n",
      "Take a guess;\n",
      "5\n",
      "Your guess is greater than your number.\n",
      "Take a guess;\n",
      "2\n",
      "Your guess is less than your number.\n",
      "Take a guess;\n",
      "3\n",
      "Your guess is less than your number.\n",
      "Nope. The number I was thinking of was 4.\n"
     ]
    }
   ],
   "source": [
    "#Enrolment No. :SMIT/19/PY/B2/07595\n",
    "#Roll No. :PY07595\n",
    "#Name :Muhammad Hammad Mansoor\n",
    "#Q5\n",
    "import random\n",
    "guessesTaken = 0\n",
    "print('Hello! What is your name?')\n",
    "myName = input()\n",
    "\n",
    "number = random.randint(1, 30)\n",
    "print('Well, ' + myName + ', Lets think a number between 1 and 30.')\n",
    "\n",
    "while guessesTaken < 3:\n",
    "    print('Take a guess;')\n",
    "    guess = int(input())\n",
    "    guessesTaken = guessesTaken + 1\n",
    "    \n",
    "    if guess < number:\n",
    "        print('Your guess is less than your number.')\n",
    "    if guess > number:\n",
    "        print('Your guess is greater than your number.')\n",
    "    if guess == number:\n",
    "        break\n",
    "if guess == number:\n",
    "    guessesTaken = str(guessesTaken + 1)\n",
    "    print('Good job, ' + myName + '! You guessed my number in ' + guessesTaken + ' guesses!')\n",
    "    \n",
    "if guess != number:\n",
    "    number = str(number)\n",
    "    print('Nope. The number I was thinking of was ' + number + '.')"
   ]
  }
 ],
 "metadata": {
  "kernelspec": {
   "display_name": "Python 3",
   "language": "python",
   "name": "python3"
  },
  "language_info": {
   "codemirror_mode": {
    "name": "ipython",
    "version": 3
   },
   "file_extension": ".py",
   "mimetype": "text/x-python",
   "name": "python",
   "nbconvert_exporter": "python",
   "pygments_lexer": "ipython3",
   "version": "3.7.4"
  }
 },
 "nbformat": 4,
 "nbformat_minor": 2
}
